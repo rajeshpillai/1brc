{
  "nbformat": 4,
  "nbformat_minor": 0,
  "metadata": {
    "colab": {
      "name": "Manim-v0.3.0.ipynb",
      "provenance": [],
      "include_colab_link": true
    },
    "kernelspec": {
      "name": "python3",
      "display_name": "Python 3"
    }
  },
  "cells": [
    {
      "cell_type": "markdown",
      "metadata": {
        "id": "view-in-github",
        "colab_type": "text"
      },
      "source": [
        "<a href=\"https://colab.research.google.com/github/rajeshpillai/1brc/blob/main/Manim_v0_3_0.ipynb\" target=\"_parent\"><img src=\"https://colab.research.google.com/assets/colab-badge.svg\" alt=\"Open In Colab\"/></a>"
      ]
    },
    {
      "cell_type": "markdown",
      "metadata": {
        "id": "vueStXPhDmXe"
      },
      "source": [
        "<p align=\"center\">\n",
        "  <img src=\"https://raw.githubusercontent.com/ManimCommunity/manim/master/logo/cropped.png\">\n",
        "</p>\n",
        "\n",
        "# Manim v0.3.0\n",
        "\n",
        "The full changelog can be found at https://docs.manim.community/en/v0.3.0/changelog.html#v0-3-0.\n",
        "\n",
        "This is a Collab Notebook where you can try all the _features_ released in this version.\n",
        "\n",
        "[**Code Of Conduct**](https://docs.manim.community/en/v0.3.0/conduct.html)"
      ]
    },
    {
      "cell_type": "code",
      "metadata": {
        "id": "cW4AHst2CGF_"
      },
      "source": [
        "#@title # Install Manim First\n",
        "#@markdown This install Manim and its dependencies.\n",
        "\n",
        "#@markdown Click on the restart runtime button below before continuing.\n",
        "!sudo apt update\n",
        "!sudo apt install libcairo2-dev ffmpeg texlive texlive-latex-extra texlive-fonts-extra texlive-latex-recommended texlive-science tipa libpango1.0-dev\n",
        "!pip install -U manim==0.3.0\n",
        "!pip install IPython --upgrade"
      ],
      "execution_count": null,
      "outputs": []
    },
    {
      "cell_type": "code",
      "metadata": {
        "id": "WsjkRT4wHKMN"
      },
      "source": [
        "#@markdown First Import Manim\n",
        "from manim import *"
      ],
      "execution_count": null,
      "outputs": []
    },
    {
      "cell_type": "markdown",
      "metadata": {
        "id": "rcTVsZRQDbed"
      },
      "source": [
        "## [#943](https://github.com/ManimCommunity/manim/pull/943): IPython %%manim magic\n",
        "\n",
        "Now, Manim can run directly on notebooks using the `%%manim` magic."
      ]
    },
    {
      "cell_type": "code",
      "metadata": {
        "id": "L67EDnuFF8x9"
      },
      "source": [
        "%%manim SquareToCircle -qm -v WARNING\n",
        "\n",
        "class SquareToCircle(Scene):\n",
        "    def construct(self):\n",
        "        circle = Circle()\n",
        "        square = Square()\n",
        "        square.flip(RIGHT)\n",
        "        square.rotate(-3 * TAU / 8)\n",
        "        circle.set_fill(PINK, opacity=0.5)\n",
        "\n",
        "        self.play(ShowCreation(square))\n",
        "        self.play(Transform(square, circle))\n",
        "        self.play(FadeOut(square))"
      ],
      "execution_count": null,
      "outputs": []
    },
    {
      "cell_type": "markdown",
      "metadata": {
        "id": "CQPxTQeWCcIh"
      },
      "source": [
        "## [#970](https://github.com/ManimCommunity/manim/pull/970): New command to get Manim's version.\n",
        "```sh\n",
        "manim --version\n",
        "```"
      ]
    },
    {
      "cell_type": "code",
      "metadata": {
        "id": "6aF9bg4oCWiP"
      },
      "source": [
        "#@markdown Collab uses `!` for running shell Commands\n",
        "!manim --version"
      ],
      "execution_count": null,
      "outputs": []
    },
    {
      "cell_type": "markdown",
      "metadata": {
        "id": "WQAKwExiIPp2"
      },
      "source": [
        "## [#948](https://github.com/ManimCommunity/manim/pull/948): Code strings can now be passed to [`Code`](https://docs.manim.community/en/v0.3.0/reference/manim.mobject.svg.code_mobject.Code.html#manim.mobject.svg.code_mobject.Code)"
      ]
    },
    {
      "cell_type": "code",
      "metadata": {
        "id": "bXUhOXR9IYmx"
      },
      "source": [
        "%%manim CodeString -qm -s -v WARNING\n",
        "codestring = \\\n",
        "\"\"\"\n",
        "from manim import *\n",
        "print(\"Welcome To Manim\")\n",
        "\"\"\"\n",
        "class CodeString(Scene):\n",
        "    def construct(self):\n",
        "        code = Code(\n",
        "            code=codestring,\n",
        "            tab_width=4,\n",
        "            background=\"window\",\n",
        "            language=\"Python\",\n",
        "            font=\"Monospace\"\n",
        "        )\n",
        "        self.add(code)"
      ],
      "execution_count": null,
      "outputs": []
    },
    {
      "cell_type": "markdown",
      "metadata": {
        "id": "SX86vDuNJSuG"
      },
      "source": [
        "## [#917](https://github.com/ManimCommunity/manim/pull/917): Allow overriding new-style method animations\n",
        "\n",
        "See https://docs.manim.community/en/v0.3.0/reference/manim.mobject.mobject.html#manim.mobject.mobject.override_animate for some more detailed documentation."
      ]
    },
    {
      "cell_type": "code",
      "metadata": {
        "id": "ZAjbXhanJfFa"
      },
      "source": [
        "%%manim AnimationOverrideExample -qm -v WARNING\n",
        "\n",
        "class CircleWithContent(VGroup):\n",
        "    def __init__(self, content):\n",
        "        super().__init__()\n",
        "        self.circle = Circle()\n",
        "        self.content = content\n",
        "        self.add(self.circle, content)\n",
        "        content.move_to(self.circle.get_center())\n",
        "\n",
        "    def clear_content(self):\n",
        "        self.remove(self.content)\n",
        "        self.content = None\n",
        "\n",
        "    @override_animate(clear_content)\n",
        "    def _clear_content_animation(self):\n",
        "        anim = Uncreate(self.content)\n",
        "        self.clear_content()\n",
        "        return anim\n",
        "\n",
        "class AnimationOverrideExample(Scene):\n",
        "    def construct(self):\n",
        "        t = Text(\"hello!\")\n",
        "        my_mobject = CircleWithContent(t)\n",
        "        self.play(ShowCreation(my_mobject))\n",
        "        self.play(my_mobject.animate.clear_content())\n",
        "        self.wait()"
      ],
      "execution_count": null,
      "outputs": []
    },
    {
      "cell_type": "markdown",
      "metadata": {
        "id": "_IxH398lJ5pF"
      },
      "source": [
        "## [#939](https://github.com/ManimCommunity/manim/pull/939): Support for custom font files"
      ]
    },
    {
      "cell_type": "code",
      "metadata": {
        "id": "-eGYCLweMaHw"
      },
      "source": [
        "#@markdown First Download The Font Orbitron\n",
        "!curl -L https://fonts.google.com/download?family=Orbitron -o orbitron.zip\n",
        "!7z x orbitron.zip -aoa"
      ],
      "execution_count": null,
      "outputs": []
    },
    {
      "cell_type": "code",
      "metadata": {
        "id": "zKLkmhZRLhAw"
      },
      "source": [
        "%%manim CustomFont -qm -p -v WARNING --disable_caching\n",
        "\n",
        "class CustomFont(Scene):\n",
        "    def construct(self):\n",
        "        with register_font(\"Orbitron-VariableFont_wght.ttf\"):\n",
        "            a=Text(\"Hello, this is Orbitron!\",font=\"Orbitron\")\n",
        "        self.play(Write(a))"
      ],
      "execution_count": null,
      "outputs": []
    },
    {
      "cell_type": "markdown",
      "metadata": {
        "id": "1Vg7lZDqMyn-"
      },
      "source": [
        "## [#892](https://github.com/ManimCommunity/manim/pull/892): Allow importing ManimCommunity Logo colors\n",
        "\n",
        "Now, you can import the colours used in our logo using the following import\n",
        "```py\n",
        "from manim.communitycolors import *\n",
        "```\n"
      ]
    },
    {
      "cell_type": "markdown",
      "metadata": {
        "id": "37l_pQA-O8De"
      },
      "source": [
        "## [#742](https://github.com/ManimCommunity/manim/pull/742): Introduction of new and easier handling of Units: Pixels, Munits, Percent in `unit`"
      ]
    },
    {
      "cell_type": "code",
      "metadata": {
        "id": "sicotrC-Ox--"
      },
      "source": [
        "%%manim UnitDot -qm -v WARNING --disable_caching\n",
        "\n",
        "from manim import unit\n",
        "\n",
        "def make_dot(c):\n",
        "    return Dot(radius=0.2, color=c)\n",
        "\n",
        "class UnitDot(Scene):\n",
        "    def construct(self):\n",
        "        dot1 = make_dot(RED).shift(UP)\n",
        "        dot2 = make_dot(BLUE)\n",
        "        dot3 = make_dot(GREEN).shift(DOWN)\n",
        "        self.add(dot1, dot2, dot3)\n",
        "\n",
        "        self.play(\n",
        "            dot1.animate.shift(3.55 * unit.Munits * RIGHT),\n",
        "            dot2.animate.shift(320 * unit.Pixels * RIGHT),\n",
        "            dot3.animate.shift(25 * unit.Percent(X_AXIS) * RIGHT)\n",
        "        )\n",
        "\n",
        "        self.wait()"
      ],
      "execution_count": null,
      "outputs": []
    },
    {
      "cell_type": "markdown",
      "metadata": {
        "id": "VQeKaGiuOBzn"
      },
      "source": [
        "## [#916](https://github.com/ManimCommunity/manim/pull/916): Multi-column layout for partite graphs"
      ]
    },
    {
      "cell_type": "code",
      "metadata": {
        "id": "YmaKe4NROAQi"
      },
      "source": [
        "%%manim MultiColumn -qm -v WARNING\n",
        "\n",
        "class MultiColumn(Scene):\n",
        "    def construct(self):\n",
        "        graph = Graph(vertices=[0, 1, 2, 3, 4, 5, 6, 7],\n",
        "                      edges=[(0, 4), (0, 6), (1, 6), (2, 5), (3, 7)],\n",
        "                      layout=\"partite\",\n",
        "                      partitions=[[0, 1, 2, 3]])\n",
        "        self.play(ShowCreation(graph))\n",
        "        self.play(FadeOut(graph))\n",
        "\n",
        "        # nodes not specified in any of the partitions will form their own partition\n",
        "        graph = Graph(vertices=[0, 1, 2, 3, 4, 5, 6, 7],\n",
        "                      edges=[(0, 2), (0, 3), (3, 6), (1, 2), (5, 7)],\n",
        "                      layout=\"partite\",\n",
        "                      partitions=[[0, 1], [2, 3], [4, 5]])\n",
        "        self.play(ShowCreation(graph))\n",
        "        self.play(FadeOut(graph))\n",
        "\n",
        "        layers = [[0], [1, 2, 3], [4, 5, 6, 7], [8, 9], [10]]\n",
        "        edges = []\n",
        "        for j in range(len(layers) - 1):\n",
        "            edges.extend([(a, b) for a in layers[j] for b in layers[j+1]])\n",
        "        graph = Graph(vertices=[0, 1, 2, 3, 4, 5, 6, 7, 8, 9, 10],\n",
        "                      edges=edges,\n",
        "                      layout=\"partite\",\n",
        "                      layout_scale=4,\n",
        "                      partitions=layers)\n",
        "        self.play(ShowCreation(graph))\n",
        "        self.play(FadeOut(graph))"
      ],
      "execution_count": null,
      "outputs": []
    },
    {
      "cell_type": "markdown",
      "metadata": {
        "id": "q-ByeMQ1DIin"
      },
      "source": [
        "## [#945](https://github.com/ManimCommunity/manim/pull/945): The [`Graph Mobject`](https://docs.manim.community/en/v0.3.0/reference/manim.mobject.graph.Graph.html#manim.mobject.graph.Graph) has a [`change_layout()`](https://docs.manim.community/en/v0.3.0/reference/manim.mobject.graph.Graph.html#manim.mobject.graph.Graph.change_layout) method now, and\n",
        "## [#922](https://github.com/ManimCommunity/manim/pull/922): Tree layout for Graph mobject\n"
      ]
    },
    {
      "cell_type": "code",
      "metadata": {
        "id": "qS84s0dzDanM"
      },
      "source": [
        "%%manim ChangeGraphLayout -qm -v WARNING\n",
        "\n",
        "class ChangeGraphLayout(Scene):\n",
        "    def construct(self):\n",
        "        G = Graph(\n",
        "            [1, 2, 3, 4, 5, 6, 7, 8],\n",
        "            [(1, 2), (2, 3), (3, 4), (4, 5), (1, 6), (6, 7), (6, 8)],\n",
        "            layout=\"tree\",\n",
        "            layout_scale=5,\n",
        "            root_vertex=1,\n",
        "            labels=True,\n",
        "        )\n",
        "        self.play(ShowCreation(G))\n",
        "        self.wait()\n",
        "        for root in range(2, 9):\n",
        "            self.play(G.animate.change_layout(\"tree\", layout_scale=5, root_vertex=root))\n",
        "            self.wait(0.5)\n",
        "\n",
        "        for lt in [\"circular\", \"spring\", \"planar\", \"shell\", \"spiral\"]:\n",
        "            self.play(G.animate.change_layout(lt))\n",
        "            self.wait(0.5)\n",
        "\n",
        "        self.play(G.animate.change_layout(\"tree\", layout_scale=5, root_vertex=1))\n",
        "        self.play(FadeOut(G))"
      ],
      "execution_count": null,
      "outputs": []
    },
    {
      "cell_type": "markdown",
      "metadata": {
        "id": "Z9lhJA8ZSgfL"
      },
      "source": [
        "## [#893](https://github.com/ManimCommunity/manim/pull/893): Convenience method from_networkx() for creating a graph from a networkx graph"
      ]
    },
    {
      "cell_type": "code",
      "metadata": {
        "id": "O8ylRuFHSsae"
      },
      "source": [
        "%%manim ImportNetworkxGraph -qm -p -v WARNING --disable_caching\n",
        "\n",
        "import networkx as nx\n",
        "nxgraph = nx.erdos_renyi_graph(14, 0.5)\n",
        "class ImportNetworkxGraph(Scene):\n",
        "    def construct(self):\n",
        "        G = Graph.from_networkx(nxgraph, layout=\"spring\", layout_scale=3.5)\n",
        "        self.play(ShowCreation(G))\n",
        "        self.play(*[G[v].animate.move_to(5*RIGHT*np.cos(ind/7 * PI) +\n",
        "                                         3*UP*np.sin(ind/7 * PI))\n",
        "                   for ind, v in enumerate(G.vertices)])\n",
        "        self.play(Uncreate(G))"
      ],
      "execution_count": null,
      "outputs": []
    },
    {
      "cell_type": "code",
      "metadata": {
        "id": "rg7tl5B9qrce"
      },
      "source": [],
      "execution_count": null,
      "outputs": []
    }
  ]
}